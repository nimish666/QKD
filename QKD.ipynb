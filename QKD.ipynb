{
  "nbformat": 4,
  "nbformat_minor": 0,
  "metadata": {
    "colab": {
      "provenance": []
    },
    "kernelspec": {
      "name": "python3",
      "display_name": "Python 3"
    },
    "language_info": {
      "name": "python"
    }
  },
  "cells": [
    {
      "cell_type": "code",
      "execution_count": 13,
      "metadata": {
        "colab": {
          "base_uri": "https://localhost:8080/"
        },
        "id": "sXQRe0ILkM5H",
        "outputId": "0a90a4c9-66fb-4ad1-a940-5dc46a7836c2"
      },
      "outputs": [
        {
          "output_type": "stream",
          "name": "stdout",
          "text": [
            "Simulated QBER: 1.52%\n",
            "Asymptotic key rate r = 1 - 2*h(QBER): 0.7725 bits/sifted bit\n"
          ]
        }
      ],
      "source": [
        "import numpy as np\n",
        "from qutip import basis, sigmax, Qobj, expect\n",
        "\n",
        "def binary_entropy(x):\n",
        "    if x == 0 or x == 1:\n",
        "        return 0.0\n",
        "    return -x*np.log2(x) - (1-x)*np.log2(1-x)\n",
        "\n",
        "def simulate_bb84(num_bits=10000, bit_flip_prob=0.02):\n",
        "\n",
        "    bits        = np.random.randint(0, 2, size=num_bits)\n",
        "    alice_bases = np.random.randint(0, 2, size=num_bits)\n",
        "    H = Qobj([[1,1],[1,-1]])/np.sqrt(2)\n",
        "\n",
        "\n",
        "    states = []\n",
        "    for b, base in zip(bits, alice_bases):\n",
        "        psi = basis(2, b)\n",
        "        if base == 1:\n",
        "            psi = H * psi\n",
        "        states.append(psi)\n",
        "\n",
        "    flips = np.random.rand(num_bits) < bit_flip_prob\n",
        "    noisy = [sigmax()*psi if f else psi for psi, f in zip(states, flips)]\n",
        "\n",
        "\n",
        "    bob_bases = np.random.randint(0, 2, size=num_bits)\n",
        "    P0 = basis(2,0)*basis(2,0).dag()\n",
        "    P1 = basis(2,1)*basis(2,1).dag()\n",
        "    plus  = H*basis(2,0)\n",
        "    minus = H*basis(2,1)\n",
        "    Pplus  = plus*plus.dag()\n",
        "    Pminus = minus*minus.dag()\n",
        "\n",
        "    received = []\n",
        "    for psi, base in zip(noisy, bob_bases):\n",
        "        if base == 0:\n",
        "            probs = [expect(P0, psi), expect(P1, psi)]\n",
        "        else:\n",
        "            probs = [expect(Pplus, psi), expect(Pminus, psi)]\n",
        "        received.append(np.random.choice([0,1], p=probs))\n",
        "    received = np.array(received)\n",
        "    mask      = (alice_bases == bob_bases)\n",
        "    sift_sent = bits[mask]\n",
        "    sift_recv = received[mask]\n",
        "\n",
        "\n",
        "    qber = np.mean(sift_sent != sift_recv)\n",
        "    rate = max(0.0, 1 - 2*binary_entropy(qber))\n",
        "\n",
        "    return qber, rate\n",
        "\n",
        "if __name__ == \"__main__\":\n",
        "    qber, key_rate = simulate_bb84(num_bits=20000, bit_flip_prob=0.03)\n",
        "    print(f\"Simulated QBER: {qber*100:.2f}%\")\n",
        "    print(f\"Asymptotic key rate r = 1 - 2*h(QBER): {key_rate:.4f} bits/sifted bit\")\n",
        "\n",
        "\n"
      ]
    },
    {
      "cell_type": "code",
      "source": [
        "H = Qobj([[1,1],[1,-1]])/np.sqrt(2)\n",
        "\n",
        "states = []\n",
        "psi = basis(2, 1)\n",
        "psi = H * psi\n",
        "# if base == 1:\n",
        "print(psi)\n",
        "# for b, base in zip(bits, alice_bases):\n",
        "#         psi = basis(2, b)\n",
        "#         if base == 1:\n",
        "#             psi = H * psi\n",
        "#         states.append(psi)"
      ],
      "metadata": {
        "colab": {
          "base_uri": "https://localhost:8080/"
        },
        "id": "LXLK1HL78aLR",
        "outputId": "e533279e-0fa7-46ec-a4a4-7a9c2751ae55"
      },
      "execution_count": 25,
      "outputs": [
        {
          "output_type": "stream",
          "name": "stdout",
          "text": [
            "Quantum object: dims=[[2], [1]], shape=(2, 1), type='ket', dtype=Dense\n",
            "Qobj data =\n",
            "[[ 0.70710678]\n",
            " [-0.70710678]]\n"
          ]
        }
      ]
    },
    {
      "cell_type": "code",
      "source": [
        "import numpy as np\n",
        "from qutip import basis, Qobj, expect, sigmax, sigmay, sigmaz, qeye\n",
        "\n",
        "def binary_entropy(x):\n",
        "    \"\"\"Binary entropy h(x) = -x log2(x) - (1−x) log2(1−x).\"\"\"\n",
        "    if x == 0 or x == 1:\n",
        "        return 0.0\n",
        "    return -x * np.log2(x) - (1 - x) * np.log2(1 - x)\n",
        "\n",
        "def depolarizing_channel_manual(rho, p):\n",
        "\n",
        "    K0 = np.sqrt(1 - 3*p/4) * qeye(2)\n",
        "    K1 = np.sqrt(p/4) * sigmax()\n",
        "    K2 = np.sqrt(p/4) * sigmay()\n",
        "    K3 = np.sqrt(p/4) * sigmaz()\n",
        "\n",
        "    return K0 * rho * K0.dag() + K1 * rho * K1.dag() + K2 * rho * K2.dag() + K3 * rho * K3.dag()\n",
        "\n",
        "def simulate_bb84_with_depol_manual(num_bits=10000, p_dep=0.02):\n",
        "    bits = np.random.randint(0, 2, size=num_bits)\n",
        "    alice_bases = np.random.randint(0, 2, size=num_bits)\n",
        "    H = Qobj([[1, 1], [1, -1]]) / np.sqrt(2)\n",
        "\n",
        "    states = []\n",
        "    for bit, base in zip(bits, alice_bases):\n",
        "        psi = basis(2, bit)\n",
        "        if base == 1:\n",
        "            psi = H * psi\n",
        "        states.append(psi)\n",
        "\n",
        "\n",
        "    noisy_states = [depolarizing_channel_manual(psi.proj(), p_dep) for psi in states]\n",
        "\n",
        "    bob_bases = np.random.randint(0, 2, size=num_bits)\n",
        "    P0 = basis(2, 0)*basis(2, 0).dag()\n",
        "    P1 = basis(2, 1)*basis(2, 1).dag()\n",
        "    plus = H * basis(2, 0)\n",
        "    minus = H * basis(2, 1)\n",
        "    Pplus = plus * plus.dag()\n",
        "    Pminus = minus * minus.dag()\n",
        "\n",
        "    received = []\n",
        "    for rho, base in zip(noisy_states, bob_bases):\n",
        "        if base == 0:\n",
        "            probs = [expect(P0, rho), expect(P1, rho)]\n",
        "        else:\n",
        "            probs = [expect(Pplus, rho), expect(Pminus, rho)]\n",
        "        received.append(np.random.choice([0, 1], p=probs))\n",
        "    received = np.array(received)\n",
        "\n",
        "    mask = (alice_bases == bob_bases)\n",
        "    sift_sent = bits[mask]\n",
        "    sift_recv = received[mask]\n",
        "\n",
        "    qber = np.mean(sift_sent != sift_recv)\n",
        "    key_rate = max(0.0, 1 - 2 * binary_entropy(qber))\n",
        "    return qber, key_rate\n",
        "\n",
        "\n",
        "qber, rate = simulate_bb84_with_depol_manual(num_bits=20000, p_dep=0.03)\n",
        "qber, rate\n"
      ],
      "metadata": {
        "colab": {
          "base_uri": "https://localhost:8080/"
        },
        "id": "fJxTctgYwOam",
        "outputId": "ca763c09-6c3f-472c-c124-3db501485547"
      },
      "execution_count": 12,
      "outputs": [
        {
          "output_type": "execute_result",
          "data": {
            "text/plain": [
              "(np.float64(0.014094362255097961), np.float64(0.7862951345593565))"
            ]
          },
          "metadata": {},
          "execution_count": 12
        }
      ]
    },
    {
      "cell_type": "code",
      "source": [
        "# !pip install qutip\n",
        "import numpy as np\n",
        "from qutip import basis, Qobj, expect, sigmax, qeye\n",
        "\n",
        "def binary_entropy(x):\n",
        "\n",
        "    if x == 0 or x == 1:\n",
        "        return 0.0\n",
        "    return -x * np.log2(x) - (1 - x) * np.log2(1 - x)\n",
        "\n",
        "def depolarizing_channel(rho, p):\n",
        "\n",
        "    return (1 - p) * rho + p * qeye(2) / 2\n",
        "\n",
        "def bit_flip_channel(rho, p):\n",
        "\n",
        "    K0 = np.sqrt(1 - p) * qeye(2)\n",
        "    K1 = np.sqrt(p) * sigmax()\n",
        "    return K0 * rho * K0.dag() + K1 * rho * K1.dag()\n",
        "\n",
        "def simulate_bb84_mixed_noise(num_bits=10000, p_bit=0.01, p_dep=0.02):\n",
        "\n",
        "    bits        = np.random.randint(0, 2, size=num_bits)\n",
        "    alice_bases = np.random.randint(0, 2, size=num_bits)\n",
        "\n",
        "\n",
        "    H = Qobj([[1,  1],\n",
        "              [1, -1]]) / np.sqrt(2)\n",
        "\n",
        "\n",
        "    states = []\n",
        "    for b, base in zip(bits, alice_bases):\n",
        "        psi = basis(2, b)\n",
        "        if base == 1:\n",
        "            psi = H * psi\n",
        "        states.append(psi)\n",
        "\n",
        "\n",
        "    noisy = []\n",
        "    for psi in states:\n",
        "        rho = psi.proj()\n",
        "        rho_dep = depolarizing_channel(rho, p_dep)\n",
        "        rho_mix = bit_flip_channel(rho_dep, p_bit)\n",
        "        noisy.append(rho_mix)\n",
        "\n",
        "\n",
        "    bob_bases = np.random.randint(0, 2, size=num_bits)\n",
        "    P0 = basis(2,0)*basis(2,0).dag()\n",
        "    P1 = basis(2,1)*basis(2,1).dag()\n",
        "    plus  = H * basis(2,0)\n",
        "    minus = H * basis(2,1)\n",
        "    Pplus  = plus * plus.dag()\n",
        "    Pminus = minus * minus.dag()\n",
        "\n",
        "\n",
        "    received = []\n",
        "    for rho, base in zip(noisy, bob_bases):\n",
        "        if base == 0:\n",
        "            probs = [expect(P0, rho), expect(P1, rho)]\n",
        "        else:\n",
        "            probs = [expect(Pplus, rho), expect(Pminus, rho)]\n",
        "        received.append(np.random.choice([0,1], p=probs))\n",
        "    received = np.array(received)\n",
        "\n",
        "    mask      = (alice_bases == bob_bases)\n",
        "    sift_sent = bits[mask]\n",
        "    sift_recv = received[mask]\n",
        "\n",
        "\n",
        "    qber   = np.mean(sift_sent != sift_recv)\n",
        "    rate   = max(0.0, 1 - 2 * binary_entropy(qber))\n",
        "    return qber, rate\n",
        "\n",
        "\n",
        "if __name__ == \"__main__\":\n",
        "    qber, rate = simulate_bb84_mixed_noise(num_bits=30000, p_bit=0.03, p_dep=0)\n",
        "    print(f\"QBER with mixed noise: {qber*100:.2f}%\")\n",
        "    print(f\"Key rate: {rate:.4f} bits/sifted bit\")\n"
      ],
      "metadata": {
        "colab": {
          "base_uri": "https://localhost:8080/"
        },
        "id": "kP6TWuRP532m",
        "outputId": "99b16692-1001-41d2-d748-e26b40aaa66b"
      },
      "execution_count": 21,
      "outputs": [
        {
          "output_type": "stream",
          "name": "stdout",
          "text": [
            "QBER with mixed noise: 1.40%\n",
            "Key rate: 0.7869 bits/sifted bit\n"
          ]
        }
      ]
    },
    {
      "cell_type": "code",
      "source": [
        "import numpy as np\n",
        "from qutip import basis, Qobj, expect, sigmax, sigmay, sigmaz, qeye\n",
        "\n",
        "def binary_entropy(x):\n",
        "\n",
        "    if x == 0 or x == 1:\n",
        "        return 0.0\n",
        "    return -x*np.log2(x) - (1-x)*np.log2(1-x)\n",
        "\n",
        "def depolarizing_channel(rho, p):\n",
        "\n",
        "    return (1 - p) * rho + p * qeye(2) / 2\n",
        "\n",
        "def bit_flip_channel(rho, p):\n",
        "\n",
        "    K0 = np.sqrt(1-p) * qeye(2)\n",
        "    K1 = np.sqrt(p)   * sigmax()\n",
        "    return K0*rho*K0.dag() + K1*rho*K1.dag()\n",
        "\n",
        "def simulate_b92(num_bits=10000, p_dep=0.02, p_bit=0.01):\n",
        "\n",
        "    H = Qobj([[1, 1], [1, -1]])/np.sqrt(2)\n",
        "    states = [basis(2, 0), H*basis(2, 0)]\n",
        "\n",
        "    bits = np.random.randint(0, 2, size=num_bits)\n",
        "\n",
        "    rhos = []\n",
        "    for b in bits:\n",
        "        psi = states[b]\n",
        "        rho = psi.proj()\n",
        "        rho = depolarizing_channel(rho, p_dep)\n",
        "        rho = bit_flip_channel(rho, p_bit)\n",
        "        rhos.append(rho)\n",
        "\n",
        "\n",
        "    plus  = H*basis(2, 0)\n",
        "    minus = H*basis(2, 1)\n",
        "    P1   = basis(2,1)*basis(2,1).dag()\n",
        "    Pm   = minus*minus.dag()\n",
        "\n",
        "    conclusive, inferred = [], []\n",
        "    for rho, b in zip(rhos, bits):\n",
        "\n",
        "        if np.random.rand() < 0.5:\n",
        "            p_click = expect(P1, rho)\n",
        "            if np.random.rand() < p_click:\n",
        "\n",
        "                conclusive.append(True)\n",
        "                inferred.append(1)\n",
        "            else:\n",
        "                conclusive.append(False)\n",
        "                inferred.append(None)\n",
        "        else:\n",
        "            p_click = expect(Pm, rho)\n",
        "            if np.random.rand() < p_click:\n",
        "\n",
        "                conclusive.append(True)\n",
        "                inferred.append(0)\n",
        "            else:\n",
        "                conclusive.append(False)\n",
        "                inferred.append(None)\n",
        "\n",
        "\n",
        "    mask = np.array(conclusive)\n",
        "    sent_bits = bits[mask]\n",
        "    rec_bits  = np.array([b for b in inferred if b is not None])\n",
        "\n",
        "\n",
        "    qber      = np.mean(sent_bits != rec_bits)\n",
        "    sift_rate = np.sum(mask)/num_bits\n",
        "    key_rate  = 1 * max(0.0, 1 - 2*binary_entropy(qber))\n",
        "\n",
        "    return qber, sift_rate, key_rate\n",
        "\n",
        "if __name__ == \"__main__\":\n",
        "    qber, sift_rate, key_rate = simulate_b92(\n",
        "        num_bits=30000,\n",
        "        p_dep=0.03,\n",
        "        p_bit=0\n",
        "    )\n",
        "    print(f\"Simulated B92 (mixed noise) → QBER: {qber*100:.2f}%\")\n",
        "    print(f\"                Sift rate: {sift_rate*100:.2f}%\")\n",
        "    print(f\"                Key rate:  {key_rate:.4f} bits/signal\")"
      ],
      "metadata": {
        "colab": {
          "base_uri": "https://localhost:8080/"
        },
        "id": "0ZFSSGkhd1yE",
        "outputId": "ab7c921b-52a1-4b02-df50-57bb8598b76f"
      },
      "execution_count": 23,
      "outputs": [
        {
          "output_type": "stream",
          "name": "stdout",
          "text": [
            "Simulated B92 (mixed noise) → QBER: 2.87%\n",
            "                Sift rate: 25.42%\n",
            "                Key rate:  0.6241 bits/signal\n"
          ]
        }
      ]
    },
    {
      "cell_type": "code",
      "source": [],
      "metadata": {
        "colab": {
          "base_uri": "https://localhost:8080/"
        },
        "id": "fd3bRxApauWe",
        "outputId": "6c24b7f2-44c4-47c1-d859-a80c78b69350"
      },
      "execution_count": 3,
      "outputs": [
        {
          "output_type": "stream",
          "name": "stdout",
          "text": [
            "B92 with bit-flip noise → QBER: 50.54%\n",
            "Sift rate: 49.99%\n",
            "Asymptotic key rate: 0.0000 bits/signal\n"
          ]
        }
      ]
    }
  ]
}